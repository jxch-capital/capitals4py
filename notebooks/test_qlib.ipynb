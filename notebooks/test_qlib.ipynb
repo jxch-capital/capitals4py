{
 "cells": [
  {
   "cell_type": "code",
   "id": "initial_id",
   "metadata": {
    "collapsed": true,
    "ExecuteTime": {
     "end_time": "2025-07-16T02:32:06.645330Z",
     "start_time": "2025-07-16T02:32:04.355466Z"
    }
   },
   "source": [
    "from app import container\n",
    "from dependency_injector.wiring import inject, Provide\n",
    "from pathlib import Path\n",
    "import qlib\n",
    "from qlib.data import D"
   ],
   "outputs": [],
   "execution_count": 1
  },
  {
   "metadata": {},
   "cell_type": "code",
   "source": "us_data_dir = Path(container.app_settings().dir_qlib_data) / 'us'",
   "id": "f26171324b5e26ac",
   "outputs": [],
   "execution_count": null
  },
  {
   "metadata": {},
   "cell_type": "code",
   "source": [
    "qlib.init(provider_uri=us_data_dir, region=\"us\")\n",
    "df = D.features(\n",
    "        [\"AAPL\"], [\"$close\", \"EMA($close, 20)\"],\n",
    "        start_time=\"2010-09-01\", end_time=\"2011-09-25\"\n",
    "    )"
   ],
   "id": "460474d75cdea685",
   "outputs": [],
   "execution_count": null
  },
  {
   "metadata": {},
   "cell_type": "code",
   "source": "df\n",
   "id": "dc6c0234fcf82aa4",
   "outputs": [],
   "execution_count": null
  },
  {
   "metadata": {
    "ExecuteTime": {
     "end_time": "2025-07-16T02:32:17.583485Z",
     "start_time": "2025-07-16T02:32:17.578526Z"
    }
   },
   "cell_type": "code",
   "source": "container.app_settings().dir_qlib_data",
   "id": "5da53b8a5d3fdf99",
   "outputs": [
    {
     "data": {
      "text/plain": [
       "'D:\\\\jxch-capital\\\\capitals4py\\\\data\\\\qlib\\\\data'"
      ]
     },
     "execution_count": 4,
     "metadata": {},
     "output_type": "execute_result"
    }
   ],
   "execution_count": 4
  },
  {
   "metadata": {},
   "cell_type": "code",
   "source": "",
   "id": "3df344593bb6658c",
   "outputs": [],
   "execution_count": null
  }
 ],
 "metadata": {
  "kernelspec": {
   "display_name": "Python 3",
   "language": "python",
   "name": "python3"
  },
  "language_info": {
   "codemirror_mode": {
    "name": "ipython",
    "version": 2
   },
   "file_extension": ".py",
   "mimetype": "text/x-python",
   "name": "python",
   "nbconvert_exporter": "python",
   "pygments_lexer": "ipython2",
   "version": "2.7.6"
  }
 },
 "nbformat": 4,
 "nbformat_minor": 5
}
