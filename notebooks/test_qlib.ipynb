{
 "cells": [
  {
   "cell_type": "code",
   "id": "initial_id",
   "metadata": {
    "collapsed": true,
    "ExecuteTime": {
     "end_time": "2025-07-16T02:11:44.299410Z",
     "start_time": "2025-07-16T02:11:42.107657Z"
    }
   },
   "source": [
    "from app import container\n",
    "from dependency_injector.wiring import inject, Provide\n",
    "from pathlib import Path\n",
    "import qlib\n",
    "from qlib.data import D"
   ],
   "outputs": [],
   "execution_count": 1
  },
  {
   "metadata": {
    "ExecuteTime": {
     "end_time": "2025-07-16T02:11:46.660585Z",
     "start_time": "2025-07-16T02:11:46.655404Z"
    }
   },
   "cell_type": "code",
   "source": "us_data_dir = Path(container.app_settings().dir_qlib_data) / 'us'",
   "id": "f26171324b5e26ac",
   "outputs": [],
   "execution_count": 2
  },
  {
   "metadata": {
    "ExecuteTime": {
     "end_time": "2025-07-16T02:07:54.384363Z",
     "start_time": "2025-07-16T02:07:53.421324Z"
    }
   },
   "cell_type": "code",
   "source": [
    "qlib.init(provider_uri=us_data_dir, region=\"us\")\n",
    "df = D.features(\n",
    "        [\"AAPL\"], [\"$close\", \"EMA($close, 20)\"],\n",
    "        start_time=\"2010-09-01\", end_time=\"2011-09-25\"\n",
    "    )"
   ],
   "id": "460474d75cdea685",
   "outputs": [
    {
     "name": "stderr",
     "output_type": "stream",
     "text": [
      "[43044:MainThread](2025-07-16 10:07:53,423) INFO - qlib.Initialization - [config.py:420] - default_conf: client.\n",
      "[43044:MainThread](2025-07-16 10:07:54,330) INFO - qlib.Initialization - [__init__.py:74] - qlib successfully initialized based on client settings.\n",
      "[43044:MainThread](2025-07-16 10:07:54,330) INFO - qlib.Initialization - [__init__.py:76] - data_path={'__DEFAULT_FREQ': WindowsPath('D:/jxch-capital/capitals4py/data/qlib/data/us')}\n"
     ]
    }
   ],
   "execution_count": 9
  },
  {
   "metadata": {
    "ExecuteTime": {
     "end_time": "2025-07-16T02:07:55.837343Z",
     "start_time": "2025-07-16T02:07:55.820840Z"
    }
   },
   "cell_type": "code",
   "source": "df\n",
   "id": "dc6c0234fcf82aa4",
   "outputs": [
    {
     "data": {
      "text/plain": [
       "                          $close  EMA($close, 20)\n",
       "instrument datetime                              \n",
       "AAPL       2010-09-01   9.739281         9.605903\n",
       "           2010-09-02   9.810869         9.628141\n",
       "           2010-09-03  10.067644         9.675204\n",
       "           2010-09-07  10.030297         9.712783\n",
       "           2010-09-08  10.229104         9.766851\n",
       "...                          ...              ...\n",
       "           2011-09-19  16.014782        15.018575\n",
       "           2011-09-20  16.085588        15.120195\n",
       "           2011-09-21  16.034622        15.207284\n",
       "           2011-09-22  15.633121        15.247840\n",
       "           2011-09-23  15.729607        15.293722\n",
       "\n",
       "[269 rows x 2 columns]"
      ],
      "text/html": [
       "<div>\n",
       "<style scoped>\n",
       "    .dataframe tbody tr th:only-of-type {\n",
       "        vertical-align: middle;\n",
       "    }\n",
       "\n",
       "    .dataframe tbody tr th {\n",
       "        vertical-align: top;\n",
       "    }\n",
       "\n",
       "    .dataframe thead th {\n",
       "        text-align: right;\n",
       "    }\n",
       "</style>\n",
       "<table border=\"1\" class=\"dataframe\">\n",
       "  <thead>\n",
       "    <tr style=\"text-align: right;\">\n",
       "      <th></th>\n",
       "      <th></th>\n",
       "      <th>$close</th>\n",
       "      <th>EMA($close, 20)</th>\n",
       "    </tr>\n",
       "    <tr>\n",
       "      <th>instrument</th>\n",
       "      <th>datetime</th>\n",
       "      <th></th>\n",
       "      <th></th>\n",
       "    </tr>\n",
       "  </thead>\n",
       "  <tbody>\n",
       "    <tr>\n",
       "      <th rowspan=\"11\" valign=\"top\">AAPL</th>\n",
       "      <th>2010-09-01</th>\n",
       "      <td>9.739281</td>\n",
       "      <td>9.605903</td>\n",
       "    </tr>\n",
       "    <tr>\n",
       "      <th>2010-09-02</th>\n",
       "      <td>9.810869</td>\n",
       "      <td>9.628141</td>\n",
       "    </tr>\n",
       "    <tr>\n",
       "      <th>2010-09-03</th>\n",
       "      <td>10.067644</td>\n",
       "      <td>9.675204</td>\n",
       "    </tr>\n",
       "    <tr>\n",
       "      <th>2010-09-07</th>\n",
       "      <td>10.030297</td>\n",
       "      <td>9.712783</td>\n",
       "    </tr>\n",
       "    <tr>\n",
       "      <th>2010-09-08</th>\n",
       "      <td>10.229104</td>\n",
       "      <td>9.766851</td>\n",
       "    </tr>\n",
       "    <tr>\n",
       "      <th>...</th>\n",
       "      <td>...</td>\n",
       "      <td>...</td>\n",
       "    </tr>\n",
       "    <tr>\n",
       "      <th>2011-09-19</th>\n",
       "      <td>16.014782</td>\n",
       "      <td>15.018575</td>\n",
       "    </tr>\n",
       "    <tr>\n",
       "      <th>2011-09-20</th>\n",
       "      <td>16.085588</td>\n",
       "      <td>15.120195</td>\n",
       "    </tr>\n",
       "    <tr>\n",
       "      <th>2011-09-21</th>\n",
       "      <td>16.034622</td>\n",
       "      <td>15.207284</td>\n",
       "    </tr>\n",
       "    <tr>\n",
       "      <th>2011-09-22</th>\n",
       "      <td>15.633121</td>\n",
       "      <td>15.247840</td>\n",
       "    </tr>\n",
       "    <tr>\n",
       "      <th>2011-09-23</th>\n",
       "      <td>15.729607</td>\n",
       "      <td>15.293722</td>\n",
       "    </tr>\n",
       "  </tbody>\n",
       "</table>\n",
       "<p>269 rows × 2 columns</p>\n",
       "</div>"
      ]
     },
     "execution_count": 10,
     "metadata": {},
     "output_type": "execute_result"
    }
   ],
   "execution_count": 10
  },
  {
   "metadata": {},
   "cell_type": "code",
   "outputs": [],
   "execution_count": null,
   "source": "",
   "id": "5da53b8a5d3fdf99"
  }
 ],
 "metadata": {
  "kernelspec": {
   "display_name": "Python 3",
   "language": "python",
   "name": "python3"
  },
  "language_info": {
   "codemirror_mode": {
    "name": "ipython",
    "version": 2
   },
   "file_extension": ".py",
   "mimetype": "text/x-python",
   "name": "python",
   "nbconvert_exporter": "python",
   "pygments_lexer": "ipython2",
   "version": "2.7.6"
  }
 },
 "nbformat": 4,
 "nbformat_minor": 5
}
