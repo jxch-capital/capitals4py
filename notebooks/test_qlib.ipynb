{
 "cells": [
  {
   "cell_type": "code",
   "id": "initial_id",
   "metadata": {
    "collapsed": true,
    "ExecuteTime": {
     "end_time": "2025-07-15T10:07:28.699869Z",
     "start_time": "2025-07-15T10:07:28.542973Z"
    }
   },
   "source": "from app.config import settings",
   "outputs": [],
   "execution_count": 1
  },
  {
   "metadata": {
    "ExecuteTime": {
     "end_time": "2025-07-15T10:07:30.168570Z",
     "start_time": "2025-07-15T10:07:30.160988Z"
    }
   },
   "cell_type": "code",
   "source": "settings",
   "id": "f26171324b5e26ac",
   "outputs": [
    {
     "data": {
      "text/plain": [
       "Settings(http_proxy_addr='', http_proxy_port=10808, http_proxy_enable=False, dir_qlib_data='')"
      ]
     },
     "execution_count": 2,
     "metadata": {},
     "output_type": "execute_result"
    }
   ],
   "execution_count": 2
  },
  {
   "metadata": {},
   "cell_type": "code",
   "source": "",
   "id": "460474d75cdea685",
   "outputs": [],
   "execution_count": null
  }
 ],
 "metadata": {
  "kernelspec": {
   "display_name": "Python 3",
   "language": "python",
   "name": "python3"
  },
  "language_info": {
   "codemirror_mode": {
    "name": "ipython",
    "version": 2
   },
   "file_extension": ".py",
   "mimetype": "text/x-python",
   "name": "python",
   "nbconvert_exporter": "python",
   "pygments_lexer": "ipython2",
   "version": "2.7.6"
  }
 },
 "nbformat": 4,
 "nbformat_minor": 5
}
